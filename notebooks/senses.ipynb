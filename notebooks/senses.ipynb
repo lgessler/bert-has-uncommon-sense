{
 "cells": [
  {
   "cell_type": "code",
   "execution_count": 1,
   "metadata": {},
   "outputs": [
    {
     "name": "stderr",
     "output_type": "stream",
     "text": [
      "/home/luke/.anaconda3/envs/sembre/lib/python3.8/site-packages/torch/nn/modules/container.py:435: UserWarning: Setting attributes on ParameterList is not supported.\n",
      "  warnings.warn(\"Setting attributes on ParameterList is not supported.\")\n"
     ]
    },
    {
     "name": "stdout",
     "output_type": "stream",
     "text": [
      "Reading split train from cache at cache/dataset/ontonotes_train__bert-base-cased.pkl\n",
      "Reading split dev from cache at cache/dataset/ontonotes_dev__bert-base-cased.pkl\n",
      "Reading split test from cache at cache/dataset/ontonotes_test__bert-base-cased.pkl\n"
     ]
    }
   ],
   "source": [
    "from bssp.common.reading import read_dataset_cached\n",
    "from bssp.ontonotes.dataset_reader import OntonotesReader\n",
    "\n",
    "model_name = 'bert-base-cased'\n",
    "train_dataset = read_dataset_cached(OntonotesReader, 'data/conll-formatted-ontonotes-5.0/data/train', 'ontonotes', 'train', model_name, with_embeddings=True)\n",
    "dev_dataset = read_dataset_cached(OntonotesReader, 'data/conll-formatted-ontonotes-5.0/data/dev', 'ontonotes', 'dev', model_name, with_embeddings=False)\n",
    "test_dataset = read_dataset_cached(OntonotesReader, 'data/conll-formatted-ontonotes-5.0/data/test', 'ontonotes', 'test', model_name, with_embeddings=False)\n",
    "all_instances = train_dataset + dev_dataset + test_dataset"
   ]
  },
  {
   "cell_type": "code",
   "execution_count": 3,
   "metadata": {},
   "outputs": [
    {
     "name": "stdout",
     "output_type": "stream",
     "text": [
      "3885\n"
     ]
    }
   ],
   "source": [
    "from collections import defaultdict\n",
    "instance_index = defaultdict(list)\n",
    "for instance in all_instances:\n",
    "    lemma, pos, _ = instance['label'].label.split('_')\n",
    "    instance_index[lemma + '_' + pos].append(instance)\n",
    "print(len(instance_index))"
   ]
  },
  {
   "cell_type": "code",
   "execution_count": 9,
   "metadata": {},
   "outputs": [
    {
     "name": "stdout",
     "output_type": "stream",
     "text": [
      "3395 out of 3871 lemmas have NOTA senses\n",
      "496 out of 3871 have only one sense\n",
      "1 out of 3871 have multiple senses but no reported agreement\n",
      "2163 out of 3871 have reported counts that differed from actual counts\n",
      "['pass_v_13.13', 'stand_v_7.16', 'drop_v_13.11', 'sign_v_99.5', 'pick_v_7.13', 'live_v_5.8', 'play_v_12.13', 'think_v_6.8', 'run_v_13.21', 'make_v_17.9', 'get_v_11.38', 'break_v_16.11', 'stay_v_5.9', 'put_v_7.32', 'lay_v_5.12', 'beat_v_11.9', 'clean_v_5.9', 'keep_v_8.12', 'push_v_6.6', 'place_v_9.3']\n"
     ]
    }
   ],
   "source": [
    "import os\n",
    "from glob import glob\n",
    "from lxml import etree\n",
    "import matplotlib.pyplot as plt\n",
    "lemma_files = glob('data/ontonotes-release-5.0/data/files/data/english/metadata/sense-inventories/*.xml')\n",
    "\n",
    "agreements = []\n",
    "lemma_counts = []\n",
    "notas = []\n",
    "single_sense = 0\n",
    "multi_sense_no_agreement = 0\n",
    "conflicting_counts = 0\n",
    "\n",
    "total = 0\n",
    "for lemma_filepath in lemma_files:\n",
    "    # skip if not represented in our data\n",
    "    key = lemma_filepath.split('/')[-1].replace('.xml','').replace('-','_')\n",
    "    if key not in instance_index:\n",
    "        continue\n",
    "    total += 1\n",
    "        \n",
    "    with open(lemma_filepath, 'r') as f:\n",
    "        t = etree.parse(lemma_filepath)\n",
    "    root = t.getroot()\n",
    "    \n",
    "    sense_counter = 0\n",
    "    for sense in root.iterfind('sense'):\n",
    "        sense_counter += 1\n",
    "        attribs = sense.attrib\n",
    "        \n",
    "        if attribs['name'] in ['Placeholder Sense: Do Not Choose', 'Placeholder: Do Not Choose', 'Do Not Choose', 'Do Not Choose: Placeholder Sense']:\n",
    "            #print(f\"Skipping placeholder sense in {lemma_filepath.split('/')[-1]}\")\n",
    "            continue\n",
    "            \n",
    "        commentary = sense.find('commentary').text\n",
    "        if 'NOTA' in commentary or 'none of the above' in attribs['name']:\n",
    "            notas.append(key + '_' + str(float(attribs['n'])))\n",
    "            \n",
    "    if sense_counter == 1:\n",
    "        single_sense += 1\n",
    "    else:\n",
    "        if root.find('ita') is None:\n",
    "            multi_sense_no_agreement += 1\n",
    "        else:\n",
    "            attrs = root.find('ita').attrib\n",
    "            agreement = float(attrs['ann_1_2_agreement'])\n",
    "            lemma_count = int(attrs['count'])\n",
    "            if lemma_count != len(instance_index[key]):\n",
    "                conflicting_counts += 1\n",
    "            agreements.append(agreement)\n",
    "            lemma_counts.append(lemma_count)\n",
    "    \n",
    "\n",
    "print(f'{len(notas)} out of {total} lemmas have NOTA senses')\n",
    "print(f'{single_sense} out of {total} have only one sense')\n",
    "print(f'{multi_sense_no_agreement} out of {total} have multiple senses but no reported agreement')\n",
    "print(f'{conflicting_counts} out of {total} have reported counts that differed from actual counts')\n",
    "print([x for x in notas if not x.endswith('0')])\n",
    "with open('data/ontonotes_nota_senses.txt', 'w') as f:\n",
    "    f.write('\\n'.join(notas) + '\\n')"
   ]
  },
  {
   "cell_type": "code",
   "execution_count": 4,
   "metadata": {},
   "outputs": [
    {
     "data": {
      "image/png": "[encoded data removed]",
      "text/plain": [
       "<Figure size 864x648 with 4 Axes>"
      ]
     },
     "metadata": {
      "needs_background": "light"
     },
     "output_type": "display_data"
    }
   ],
   "source": [
    "fig, ax = plt.subplots(2, 2)\n",
    "fig.set_figwidth(12)\n",
    "fig.set_figheight(9)\n",
    "\n",
    "ax[0,0].hist(agreements, bins=100)\n",
    "ax[0,0].set_title('Agreement distribution')\n",
    "\n",
    "ax[1,0].hist([x for x in agreements if x != 1.0], bins=100)\n",
    "ax[1,0].set_title('Agreement distribution without 1.0')\n",
    "\n",
    "ax[0,1].hist(lemma_counts, bins=100, range=(0,1000))\n",
    "ax[0,1].set_title('Lemma count distribution for n<1000')\n",
    "\n",
    "ax[1,1].hist(lemma_counts, bins=100, range=(0,300))\n",
    "ax[1,1].set_title('Lemma count distribution for n<300')\n",
    "plt.show()"
   ]
  }
 ],
 "metadata": {
  "kernelspec": {
   "display_name": "Python 3",
   "language": "python",
   "name": "python3"
  },
  "language_info": {
   "codemirror_mode": {
    "name": "ipython",
    "version": 3
   },
   "file_extension": ".py",
   "mimetype": "text/x-python",
   "name": "python",
   "nbconvert_exporter": "python",
   "pygments_lexer": "ipython3",
   "version": "3.8.5"
  }
 },
 "nbformat": 4,
 "nbformat_minor": 4
}
