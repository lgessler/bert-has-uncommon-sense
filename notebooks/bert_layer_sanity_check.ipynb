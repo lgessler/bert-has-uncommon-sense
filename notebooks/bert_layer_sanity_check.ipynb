{
 "cells": [
  {
   "cell_type": "code",
   "execution_count": 30,
   "metadata": {},
   "outputs": [],
   "source": [
    "from bssp.common.reading import read_dataset_cached, indexer_for_embedder, embedder_for_embedding\n",
    "from bssp.common.embedder_model import EmbedderModel, EmbedderModelPredictor, EmbedderDatasetReader\n",
    "from allennlp.data import Token\n",
    "\n",
    "def activate_bert_layers(embedder, layers):\n",
    "    \"\"\"\n",
    "    The Embedder has params deep inside that produce a scalar mix of BERT layers via a softmax\n",
    "    followed by a dot product. Activate the ones specified in `layers` and deactivate the rest\n",
    "    \"\"\"\n",
    "    # whew!\n",
    "    scalar_mix = embedder.token_embedder_tokens._matched_embedder._scalar_mix.scalar_parameters\n",
    "\n",
    "    for i, param in enumerate(scalar_mix):\n",
    "        param.requires_grad = False\n",
    "        param.fill_(1 if i in layers else 0)\n",
    "        \n",
    "indexer = indexer_for_embedder('bert-base-cased')\n",
    "vocab, embedder = embedder_for_embedding('bert-base-cased')\n",
    "reader = EmbedderDatasetReader({\"tokens\": indexer})\n",
    "model = EmbedderModel(vocab, embedder).eval()\n",
    "predictor = EmbedderModelPredictor(model, reader)"
   ]
  },
  {
   "cell_type": "code",
   "execution_count": 42,
   "metadata": {},
   "outputs": [
    {
     "name": "stdout",
     "output_type": "stream",
     "text": [
      "Layer 1 and layer 1: 1.0\n",
      "Layer 1 and layer 2: 0.9985597729682922\n",
      "Layer 1 and layer 3: 0.9972352981567383\n",
      "Layer 1 and layer 4: 0.9960039258003235\n",
      "Layer 1 and layer 5: 0.9952501058578491\n",
      "Layer 1 and layer 6: 0.9940927028656006\n",
      "Layer 1 and layer 7: 0.99290931224823\n",
      "Layer 1 and layer 8: 0.9916004538536072\n",
      "Layer 1 and layer 9: 0.9903111457824707\n",
      "Layer 1 and layer 10: 0.9888986945152283\n",
      "Layer 1 and layer 11: 0.9882490634918213\n",
      "Layer 1 and layer 12: 0.992591142654419\n"
     ]
    }
   ],
   "source": [
    "import numpy as np\n",
    "import torch\n",
    "import torch.nn.functional as F\n",
    "\n",
    "embs = []\n",
    "for i in range(0, 12):\n",
    "    activate_bert_layers(embedder, [i])\n",
    "    with torch.no_grad():\n",
    "        res = predictor.predict(\"Luke 's the one who wrote this sentence !\".split())\n",
    "    #print([vocab.get_token_from_index(t, \"tokens\") for t in res['token_ids']])\n",
    "    embeddings = torch.tensor(res['embeddings'])\n",
    "    embs.append(embeddings[-3])\n",
    "\n",
    "first_emb = embs[0]\n",
    "first_emb.unsqueeze_(0)\n",
    "for i, emb in enumerate(embs):\n",
    "    if i != 0:\n",
    "        emb.unsqueeze_(0)\n",
    "    print(f\"Layer 1 and layer {i+1}:\", F.cosine_similarity(first_emb, emb).item())"
   ]
  }
 ],
 "metadata": {
  "kernelspec": {
   "display_name": "Python 3",
   "language": "python",
   "name": "python3"
  },
  "language_info": {
   "codemirror_mode": {
    "name": "ipython",
    "version": 3
   },
   "file_extension": ".py",
   "mimetype": "text/x-python",
   "name": "python",
   "nbconvert_exporter": "python",
   "pygments_lexer": "ipython3",
   "version": "3.8.5"
  }
 },
 "nbformat": 4,
 "nbformat_minor": 4
}
