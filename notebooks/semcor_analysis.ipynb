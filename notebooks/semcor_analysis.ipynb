{
 "cells": [
  {
   "cell_type": "code",
   "execution_count": 1,
   "metadata": {},
   "outputs": [],
   "source": [
    "%matplotlib widget\n",
    "import matplotlib.pyplot as plt\n",
    "from ldg.pickle import pickle_read\n",
    "import pandas as pd\n",
    "import re"
   ]
  },
  {
   "cell_type": "code",
   "execution_count": 3,
   "metadata": {},
   "outputs": [
    {
     "name": "stdout",
     "output_type": "stream",
     "text": [
      "{'label': 0.7377845310451674, 'synset': 0.74368370873555, 'lemma': 0.9177392444285544}\n",
      "{'label': 0.7288165892027172, 'synset': 0.7350137051602907, 'lemma': 0.9096353235609582, 'synset_different_lemma': 0.006197115957573591}\n"
     ]
    },
    {
     "data": {
      "text/plain": [
       "Index(['sentence', 'label', 'synset', 'lemma', 'label_freq_in_train',\n",
       "       'label_1', 'label_2', 'label_3', 'label_4', 'label_5',\n",
       "       ...\n",
       "       'distance_42', 'distance_43', 'distance_44', 'distance_45',\n",
       "       'distance_46', 'distance_47', 'distance_48', 'distance_49',\n",
       "       'distance_50', 'pos'],\n",
       "      dtype='object', length=256)"
      ]
     },
     "execution_count": 3,
     "metadata": {},
     "output_type": "execute_result"
    }
   ],
   "source": [
    "K = 50\n",
    "K_RANGE = range(5,55,5)\n",
    "def read_scores(metric, model='bert-base-cased'):\n",
    "    scores= {}\n",
    "    for i in K_RANGE:\n",
    "        scores[i] = pickle_read(f'{metric}_predictions/{model}.tsv.{i}.pkl')\n",
    "    return scores\n",
    "\n",
    "def read_score(metric='cosine', model='bert-base-cased', freq_cutoff=20, rarity=10, eval='rec'):\n",
    "    return pickle_read(f'{metric}_predictions/{model}.tsv.{freq_cutoff}.pklrarity{rarity}.{eval}')\n",
    "\n",
    "POS_PATTERN = re.compile(r'.*\\.(.*?)\\..*')\n",
    "NE_PATTERN = re.compile(r'(NE)')\n",
    "def get_pos(label):\n",
    "    posm = re.match(POS_PATTERN, label)\n",
    "    nem = re.match(NE_PATTERN, label)\n",
    "    if posm:\n",
    "        return posm.groups()[0]\n",
    "    if nem:\n",
    "        return nem.groups()[0]\n",
    "    return None\n",
    "\n",
    "def read_data(metric, model='bert-base-cased'):\n",
    "    data = pd.read_csv(f'{metric}_predictions/{model}.tsv', sep='\\t')\n",
    "    data['pos'] = data.label.apply(get_pos)\n",
    "    return data\n",
    "\n",
    "euclidean_scores = read_scores('euclidean')\n",
    "cosine_scores = read_scores('cosine')\n",
    "print(cosine_scores[5][1])\n",
    "print(euclidean_scores[5][1])\n",
    "\n",
    "euclidean_data = read_data('euclidean')\n",
    "cosine_data = read_data('cosine')\n",
    "cosine_data.keys()"
   ]
  },
  {
   "cell_type": "code",
   "execution_count": 66,
   "metadata": {},
   "outputs": [
    {
     "data": {
      "application/vnd.jupyter.widget-view+json": {
       "model_id": "0e9a07faf95347ffa988fef8d62412da",
       "version_major": 2,
       "version_minor": 0
      },
      "text/plain": [
       "Canvas(toolbar=Toolbar(toolitems=[('Home', 'Reset original view', 'home', 'home'), ('Back', 'Back to previous …"
      ]
     },
     "metadata": {},
     "output_type": "display_data"
    },
    {
     "data": {
      "application/vnd.jupyter.widget-view+json": {
       "model_id": "b88c31ccac124f7fbf3ee4fbb1514cdf",
       "version_major": 2,
       "version_minor": 0
      },
      "text/plain": [
       "Canvas(toolbar=Toolbar(toolitems=[('Home', 'Reset original view', 'home', 'home'), ('Back', 'Back to previous …"
      ]
     },
     "metadata": {},
     "output_type": "display_data"
    }
   ],
   "source": [
    "def xyzize(scores_dict, key='synset'):\n",
    "    x, y, z = [], [], []\n",
    "    for cutoff, p_at_k_dict in scores_dict.items():\n",
    "        for k, scores in p_at_k_dict.items():\n",
    "            if k > cutoff and False:\n",
    "                continue\n",
    "            x.append(cutoff)\n",
    "            y.append(k)\n",
    "            z.append(scores[key])\n",
    "    return x, y, z\n",
    "\n",
    "def plot_surface(scores_dict, key='synset'):\n",
    "    plt.figure(figsize=(8,8))\n",
    "    ax = plt.axes(projection='3d')\n",
    "    ax.set_xlabel('occurrence cutoff')\n",
    "    ax.set_ylabel('k')\n",
    "    ax.set_zlabel(f'{key} recall')\n",
    "    #ax.set_zlim(0.3, 1)\n",
    "    x, y, z = xyzize(scores_dict, key=key)\n",
    "    ax.scatter(x, y, z, c=z, cmap='viridis', linewidth=0.5)\n",
    "    plt.show()\n",
    "    \n",
    "def plot_p_vs_k(p_at_k_dict, p_at_k_dict_2=None, key='synset'):\n",
    "    plt.figure(figsize=(7,7))\n",
    "    ax = plt.axes()\n",
    "    ax.set_xlabel('k')\n",
    "    ax.set_ylabel(f'{key} precision')\n",
    "    ax.set_ylim(0, 1)\n",
    "    \n",
    "    k, scores = list(zip(*p_at_k_dict.items()))\n",
    "    scores = [x[key] for x in scores]\n",
    "    k = list(k)\n",
    "    ax.scatter(x=k, y=scores, c=scores)\n",
    "    if p_at_k_dict_2:\n",
    "        k, scores = list(zip(*p_at_k_dict_2.items()))\n",
    "        scores = [x[key] for x in scores]\n",
    "        k = list(k)       \n",
    "        ax.scatter(x=k, y=scores, c=scores, marker='x')\n",
    "    plt.show()    \n",
    "    \n",
    "def plot_p_vs_k_grid(p_at_k_dict_2=None, key='synset', eval='rec'):\n",
    "    fig, axs = plt.subplots(4,4,figsize=(8,8))\n",
    "    plt.subplots_adjust(hspace=0.5, wspace=0.5)\n",
    "    fig.suptitle((\"Recall\" if eval=='rec' else \"Precision\") + \" at K\")\n",
    "    \n",
    "    i = 0\n",
    "    for freq_cutoff in [5, 10, 25, 50]:\n",
    "        for rarity in [5, 10, 30, 50]:\n",
    "            ax = axs[i//4][i%4]\n",
    "            i += 1\n",
    "            ax.set_title(f'c={freq_cutoff}, rar={rarity/100}')\n",
    "            ax.set_ylim(0,0.30)\n",
    "            scores = read_score(freq_cutoff=freq_cutoff, rarity=rarity, eval='rec')\n",
    "            \n",
    "            k, scores = list(zip(*scores.items()))\n",
    "            scores = [x[key] for x in scores]\n",
    "            k = list(k)\n",
    "            ax.scatter(x=k, y=scores, c=scores)\n",
    "    plt.show()\n",
    "    \n",
    "#score = read_score(\n",
    "#    freq_cutoff=5,\n",
    "#    rarity=5,\n",
    "#    eval='prec'\n",
    "#)\n",
    "#plot_p_vs_k(score, key='synset')\n",
    "plot_p_vs_k_grid(key='synset', eval='rec')\n",
    "plot_p_vs_k_grid(key='synset', eval='prec')\n",
    "#score"
   ]
  },
  {
   "cell_type": "code",
   "execution_count": 9,
   "metadata": {},
   "outputs": [
    {
     "data": {
      "application/vnd.jupyter.widget-view+json": {
       "model_id": "d4c60cd8e77c4c11a34e0a69bc949393",
       "version_major": 2,
       "version_minor": 0
      },
      "text/plain": [
       "Canvas(toolbar=Toolbar(toolitems=[('Home', 'Reset original view', 'home', 'home'), ('Back', 'Back to previous …"
      ]
     },
     "metadata": {},
     "output_type": "display_data"
    },
    {
     "name": "stdout",
     "output_type": "stream",
     "text": [
      "Cosine correctness\n"
     ]
    },
    {
     "data": {
      "application/vnd.jupyter.widget-view+json": {
       "model_id": "4e9ac833bc32418383c816d13f862582",
       "version_major": 2,
       "version_minor": 0
      },
      "text/plain": [
       "Canvas(toolbar=Toolbar(toolitems=[('Home', 'Reset original view', 'home', 'home'), ('Back', 'Back to previous …"
      ]
     },
     "metadata": {},
     "output_type": "display_data"
    },
    {
     "name": "stdout",
     "output_type": "stream",
     "text": [
      "Euclidean correctness\n"
     ]
    },
    {
     "data": {
      "application/vnd.jupyter.widget-view+json": {
       "model_id": "00ab02a7c19e427299537bb44d30314e",
       "version_major": 2,
       "version_minor": 0
      },
      "text/plain": [
       "Canvas(toolbar=Toolbar(toolitems=[('Home', 'Reset original view', 'home', 'home'), ('Back', 'Back to previous …"
      ]
     },
     "metadata": {},
     "output_type": "display_data"
    }
   ],
   "source": [
    "# data columns:\n",
    "# sentence: original sentence\n",
    "# label, lemma, synset, label_freq_in_train\n",
    "# label_i\n",
    "# synset_i\n",
    "# lemma_i\n",
    "# distance_i\n",
    "list(cosine_data.keys())\n",
    "\n",
    "def distance_correctness_corr(data, key='synset'):\n",
    "    \n",
    "    plt.figure(figsize=(8,5))\n",
    "    ax = plt.axes()\n",
    "    ax.set_xlabel('k')\n",
    "    ax.set_ylabel(f'distance correlated with correctness')\n",
    "    \n",
    "    df = data.copy()\n",
    "    for i in range(1,K+1):\n",
    "        df['correct'] = df[f'{key}_{i}'] == df[f'{key}']\n",
    "        r = df[['correct', f'distance_{i}']].corr()['correct'][1]\n",
    "        ax.scatter(i, r, color='blue')\n",
    "    plt.show()\n",
    "    \n",
    "\n",
    "def distance_correctness_histogram(data, key='synset'):\n",
    "    df = data.copy()\n",
    "    df['first_correct'] = df[f'{key}_1'] == df[f'{key}']\n",
    "    df[['first_correct', 'distance_1']].pivot(columns='first_correct').distance_1.plot.hist(stacked=True, bins=50)\n",
    "    plt.show()\n",
    "    \n",
    "def distance_correctness_histogram_by_pos(data, key='synset'):\n",
    "    fig, axes = plt.subplots(nrows=3, ncols=2, figsize=(10,8))\n",
    "    df = data.copy()\n",
    "    df['first_correct'] = df[f'{key}_1'] == df[f'{key}']\n",
    "    for i, pos in enumerate(['NE', 'a', 'n', 'r', 's', 'v']):\n",
    "        df2 = df[df['pos'] == pos]\n",
    "        df2 = df2[['first_correct', 'distance_1']]\n",
    "        df2 = df2.pivot(columns='first_correct')\n",
    "        ax = axes[i//2, i%2]\n",
    "        ax.set_title({\"n\": \"Noun\", \"v\": \"Verb\", \"a\": \"Adj\", \"s\": \"Adj satellite\", \"r\": \"Adverb\", \"NE\": \"Named Entity\"}[pos])\n",
    "        df2.distance_1.plot.hist(stacked=True, bins=50, ax=ax)\n",
    "    plt.show()\n",
    "    \n",
    "distance_correctness_corr(cosine_data)\n",
    "#distance_correctness_histogram(euclidean_data[euclidean_data.pos=='r'])\n",
    "#distance_correctness_histogram(cosine_data)\n",
    "print(\"Cosine correctness\")\n",
    "distance_correctness_histogram_by_pos(cosine_data)\n",
    "print(\"Euclidean correctness\")\n",
    "distance_correctness_histogram_by_pos(euclidean_data)\n",
    "    "
   ]
  },
  {
   "cell_type": "code",
   "execution_count": null,
   "metadata": {},
   "outputs": [],
   "source": [
    "cosine_scores[5]"
   ]
  }
 ],
 "metadata": {
  "kernelspec": {
   "display_name": "Python 3",
   "language": "python",
   "name": "python3"
  },
  "language_info": {
   "codemirror_mode": {
    "name": "ipython",
    "version": 3
   },
   "file_extension": ".py",
   "mimetype": "text/x-python",
   "name": "python",
   "nbconvert_exporter": "python",
   "pygments_lexer": "ipython3",
   "version": "3.7.4"
  }
 },
 "nbformat": 4,
 "nbformat_minor": 4
}
